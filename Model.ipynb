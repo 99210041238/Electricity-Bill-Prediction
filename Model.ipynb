{
 "cells": [
  {
   "cell_type": "code",
   "execution_count": null,
   "id": "9534ae7d",
   "metadata": {},
   "outputs": [
    {
     "name": "stdout",
     "output_type": "stream",
     "text": [
      " * Serving Flask app \"__main__\" (lazy loading)\n",
      " * Environment: production\n",
      "\u001b[31m   WARNING: This is a development server. Do not use it in a production deployment.\u001b[0m\n",
      "\u001b[2m   Use a production WSGI server instead.\u001b[0m\n",
      " * Debug mode: off\n"
     ]
    },
    {
     "name": "stderr",
     "output_type": "stream",
     "text": [
      "C:\\Users\\rohit\\anaconda3\\lib\\site-packages\\sklearn\\base.py:376: InconsistentVersionWarning: Trying to unpickle estimator LinearRegression from version 1.3.0 when using version 1.5.0. This might lead to breaking code or invalid results. Use at your own risk. For more info please refer to:\n",
      "https://scikit-learn.org/stable/model_persistence.html#security-maintainability-limitations\n",
      "  warnings.warn(\n",
      " * Running on http://127.0.0.1:5000/ (Press CTRL+C to quit)\n",
      "127.0.0.1 - - [20/Jul/2024 13:01:02] \"GET / HTTP/1.1\" 200 -\n",
      "127.0.0.1 - - [20/Jul/2024 13:01:02] \"GET /static/script/script.js HTTP/1.1\" 200 -\n",
      "127.0.0.1 - - [20/Jul/2024 13:01:02] \"GET /static/css/style.css HTTP/1.1\" 200 -\n",
      "127.0.0.1 - - [20/Jul/2024 13:01:02] \"GET /favicon.ico HTTP/1.1\" 404 -\n",
      "127.0.0.1 - - [20/Jul/2024 13:01:04] \"GET /questions HTTP/1.1\" 200 -\n",
      "127.0.0.1 - - [20/Jul/2024 13:01:38] \"GET /questions HTTP/1.1\" 200 -\n",
      "127.0.0.1 - - [20/Jul/2024 13:02:28] \"GET /predict HTTP/1.1\" 405 -\n",
      "127.0.0.1 - - [20/Jul/2024 13:02:28] \"POST /predict HTTP/1.1\" 200 -\n"
     ]
    },
    {
     "name": "stdout",
     "output_type": "stream",
     "text": [
      "0 946\n"
     ]
    },
    {
     "name": "stderr",
     "output_type": "stream",
     "text": [
      "127.0.0.1 - - [20/Jul/2024 13:05:55] \"GET /questions HTTP/1.1\" 200 -\n",
      "127.0.0.1 - - [20/Jul/2024 13:06:01] \"GET /predict HTTP/1.1\" 405 -\n",
      "127.0.0.1 - - [20/Jul/2024 13:07:08] \"GET /predict HTTP/1.1\" 405 -\n",
      "127.0.0.1 - - [20/Jul/2024 13:07:08] \"POST /predict HTTP/1.1\" 200 -\n"
     ]
    },
    {
     "name": "stdout",
     "output_type": "stream",
     "text": [
      "0 946\n"
     ]
    },
    {
     "name": "stderr",
     "output_type": "stream",
     "text": [
      "127.0.0.1 - - [21/Jul/2024 20:48:57] \"GET / HTTP/1.1\" 200 -\n",
      "127.0.0.1 - - [21/Jul/2024 20:48:57] \"GET /static/script/script.js HTTP/1.1\" 200 -\n",
      "127.0.0.1 - - [21/Jul/2024 20:48:57] \"GET /static/css/style.css HTTP/1.1\" 200 -\n"
     ]
    }
   ],
   "source": [
    "import numpy as np\n",
    "from flask import Flask, request, render_template\n",
    "import pickle\n",
    "\n",
    "#Create an app object using the Flask class. \n",
    "app = Flask(__name__)\n",
    "\n",
    "#Load the trained model. (Pickle file)\n",
    "model = pickle.load(open('models/model.pkl', 'rb'))\n",
    "\n",
    "@app.route('/')\n",
    "def home():\n",
    "    return render_template('index.html')\n",
    "\n",
    "@app.route('/questions')\n",
    "def questions():\n",
    "    return render_template('questions.html')\n",
    "\n",
    "@app.route('/predict',methods=['POST'])\n",
    "def predict():\n",
    "    int_features = [int(x) for x in request.form.values()]\n",
    "    features = [np.array(int_features)]  #Convert to the form [[a, b]] for input to the model\n",
    "    # features = [np.array([4, 5, 3000, 1, 1, 1, 30000, 2, 1])]    \n",
    "    prediction = model.predict(features)  # f\n",
    "    result = prediction[0]\n",
    "    result_integer = int(result)\n",
    "    print(\"0\", result_integer)\n",
    "\n",
    "    return render_template('results.html', result=result_integer)\n",
    "\n",
    "if __name__ == \"__main__\":\n",
    "    app.run(debug=False)\n"
   ]
  },
  {
   "cell_type": "code",
   "execution_count": null,
   "id": "6027f48f",
   "metadata": {},
   "outputs": [],
   "source": []
  }
 ],
 "metadata": {
  "kernelspec": {
   "display_name": "Python 3 (ipykernel)",
   "language": "python",
   "name": "python3"
  },
  "language_info": {
   "codemirror_mode": {
    "name": "ipython",
    "version": 3
   },
   "file_extension": ".py",
   "mimetype": "text/x-python",
   "name": "python",
   "nbconvert_exporter": "python",
   "pygments_lexer": "ipython3",
   "version": "3.9.7"
  }
 },
 "nbformat": 4,
 "nbformat_minor": 5
}
